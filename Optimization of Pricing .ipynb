{
 "cells": [
  {
   "cell_type": "markdown",
   "id": "a402fc40-6369-4b28-8caf-f765ba064bcd",
   "metadata": {},
   "source": [
    "##  Project: Pricing Optimization for Uniform Services\n",
    "\n",
    "**Objective:**  \n",
    "Predict churn based on pricing, volume, and contract structure — and simulate how different pricing strategies impact churn and revenue.\n",
    "\n",
    "Optimizing price without increasing churn can lead to higher revenue, longer retention, and better contract negotiation strategies.\n",
    "\n",
    "**Data:**  \n",
    "N= 1,000 customer contracts, including pricing structure, discounts, volume, and churn labels.\n",
    "\n",
    "**Next Step:**  \n",
    "Load and explore the data to understand key relationships and prepare for modeling.\n"
   ]
  },
  {
   "cell_type": "markdown",
   "id": "b2af03f4-e5ea-449a-8629-8e50b27003e9",
   "metadata": {},
   "source": [
    " Step 2: Load and Explore the Data (EDA)\n",
    "\n",
    "Before modeling or optimizing pricing, we need to understand the structure of the dataset and relationships between features.\n",
    "\n",
    "In this section, we will:\n",
    "- Load the dataset into a DataFrame\n",
    "- Check data types and missing values\n",
    "- Look at  churn distribution\n",
    "- Visualize relationships \n"
   ]
  },
  {
   "cell_type": "code",
   "execution_count": 3,
   "id": "34561546-cc20-4b0c-b541-463433455885",
   "metadata": {},
   "outputs": [
    {
     "data": {
      "text/html": [
       "<div>\n",
       "<style scoped>\n",
       "    .dataframe tbody tr th:only-of-type {\n",
       "        vertical-align: middle;\n",
       "    }\n",
       "\n",
       "    .dataframe tbody tr th {\n",
       "        vertical-align: top;\n",
       "    }\n",
       "\n",
       "    .dataframe thead th {\n",
       "        text-align: right;\n",
       "    }\n",
       "</style>\n",
       "<table border=\"1\" class=\"dataframe\">\n",
       "  <thead>\n",
       "    <tr style=\"text-align: right;\">\n",
       "      <th></th>\n",
       "      <th>customerID</th>\n",
       "      <th>region</th>\n",
       "      <th>contractLength</th>\n",
       "      <th>weeklyVolume</th>\n",
       "      <th>basePricePerItem</th>\n",
       "      <th>discountRate</th>\n",
       "      <th>finalWeeklyPrice</th>\n",
       "      <th>churned</th>\n",
       "    </tr>\n",
       "  </thead>\n",
       "  <tbody>\n",
       "    <tr>\n",
       "      <th>0</th>\n",
       "      <td>CUST0000</td>\n",
       "      <td>South</td>\n",
       "      <td>36</td>\n",
       "      <td>102</td>\n",
       "      <td>7.0</td>\n",
       "      <td>0.15</td>\n",
       "      <td>606.900</td>\n",
       "      <td>False</td>\n",
       "    </tr>\n",
       "    <tr>\n",
       "      <th>1</th>\n",
       "      <td>CUST0001</td>\n",
       "      <td>Midwest</td>\n",
       "      <td>24</td>\n",
       "      <td>84</td>\n",
       "      <td>7.5</td>\n",
       "      <td>0.10</td>\n",
       "      <td>567.000</td>\n",
       "      <td>False</td>\n",
       "    </tr>\n",
       "    <tr>\n",
       "      <th>2</th>\n",
       "      <td>CUST0002</td>\n",
       "      <td>Northeast</td>\n",
       "      <td>36</td>\n",
       "      <td>113</td>\n",
       "      <td>8.0</td>\n",
       "      <td>0.15</td>\n",
       "      <td>768.400</td>\n",
       "      <td>False</td>\n",
       "    </tr>\n",
       "    <tr>\n",
       "      <th>3</th>\n",
       "      <td>CUST0003</td>\n",
       "      <td>West</td>\n",
       "      <td>12</td>\n",
       "      <td>31</td>\n",
       "      <td>8.5</td>\n",
       "      <td>0.05</td>\n",
       "      <td>250.325</td>\n",
       "      <td>True</td>\n",
       "    </tr>\n",
       "    <tr>\n",
       "      <th>4</th>\n",
       "      <td>CUST0004</td>\n",
       "      <td>Northeast</td>\n",
       "      <td>6</td>\n",
       "      <td>68</td>\n",
       "      <td>8.0</td>\n",
       "      <td>0.00</td>\n",
       "      <td>544.000</td>\n",
       "      <td>False</td>\n",
       "    </tr>\n",
       "  </tbody>\n",
       "</table>\n",
       "</div>"
      ],
      "text/plain": [
       "  customerID     region  contractLength  weeklyVolume  basePricePerItem  \\\n",
       "0   CUST0000      South              36           102               7.0   \n",
       "1   CUST0001    Midwest              24            84               7.5   \n",
       "2   CUST0002  Northeast              36           113               8.0   \n",
       "3   CUST0003       West              12            31               8.5   \n",
       "4   CUST0004  Northeast               6            68               8.0   \n",
       "\n",
       "   discountRate  finalWeeklyPrice  churned  \n",
       "0          0.15           606.900    False  \n",
       "1          0.10           567.000    False  \n",
       "2          0.15           768.400    False  \n",
       "3          0.05           250.325     True  \n",
       "4          0.00           544.000    False  "
      ]
     },
     "execution_count": 3,
     "metadata": {},
     "output_type": "execute_result"
    }
   ],
   "source": [
    "# Step 2A: Import libraries\n",
    "import pandas as pd\n",
    "import seaborn as sns\n",
    "import matplotlib.pyplot as plt\n",
    "\n",
    "# Step 2B: Load the dataset\n",
    "df = pd.read_csv(\"synthetic_uniform_pricing_dataset.csv\")\n",
    "\n",
    "# Step 2C: Preview the first few rows\n",
    "df.head()"
   ]
  },
  {
   "cell_type": "code",
   "execution_count": 4,
   "id": "dbcad3ea-5a9c-4dc4-a414-ceaab9ef4d10",
   "metadata": {},
   "outputs": [
    {
     "name": "stdout",
     "output_type": "stream",
     "text": [
      "<class 'pandas.core.frame.DataFrame'>\n",
      "RangeIndex: 1000 entries, 0 to 999\n",
      "Data columns (total 8 columns):\n",
      " #   Column            Non-Null Count  Dtype  \n",
      "---  ------            --------------  -----  \n",
      " 0   customerID        1000 non-null   object \n",
      " 1   region            1000 non-null   object \n",
      " 2   contractLength    1000 non-null   int64  \n",
      " 3   weeklyVolume      1000 non-null   int64  \n",
      " 4   basePricePerItem  1000 non-null   float64\n",
      " 5   discountRate      1000 non-null   float64\n",
      " 6   finalWeeklyPrice  1000 non-null   float64\n",
      " 7   churned           1000 non-null   bool   \n",
      "dtypes: bool(1), float64(3), int64(2), object(2)\n",
      "memory usage: 55.8+ KB\n"
     ]
    },
    {
     "data": {
      "text/plain": [
       "customerID          0\n",
       "region              0\n",
       "contractLength      0\n",
       "weeklyVolume        0\n",
       "basePricePerItem    0\n",
       "discountRate        0\n",
       "finalWeeklyPrice    0\n",
       "churned             0\n",
       "dtype: int64"
      ]
     },
     "execution_count": 4,
     "metadata": {},
     "output_type": "execute_result"
    }
   ],
   "source": [
    "# Step 2D: Basic structure\n",
    "df.info()\n",
    "\n",
    "# Step 2E: Summary statistics\n",
    "df.describe()\n",
    "\n",
    "# Step 2F: Check for missing values\n",
    "df.isnull().sum()"
   ]
  },
  {
   "cell_type": "markdown",
   "id": "335d4e19-0ee7-41e1-92e2-22be6cc3ddbb",
   "metadata": {},
   "source": [
    "Data Summary\n",
    "\n",
    "The dataset has no missing values and includes numeric features.  Data is clean and free from missing values etc. \n"
   ]
  },
  {
   "cell_type": "code",
   "execution_count": 5,
   "id": "8a55076b-f097-4520-815a-8197aca93c7c",
   "metadata": {},
   "outputs": [
    {
     "name": "stdout",
     "output_type": "stream",
     "text": [
      "churned\n",
      "False    747\n",
      "True     253\n",
      "Name: count, dtype: int64\n",
      "churned\n",
      "False    0.747\n",
      "True     0.253\n",
      "Name: proportion, dtype: float64\n"
     ]
    }
   ],
   "source": [
    "# Churn counts\n",
    "print(df['churned'].value_counts())\n",
    "print(df['churned'].value_counts(normalize=True))"
   ]
  },
  {
   "cell_type": "markdown",
   "id": "efc3f320-802a-42fa-bef7-880779d47300",
   "metadata": {},
   "source": [
    "Churn Distribution\n",
    "Here we see overall Churns and the type of data that being used. \n"
   ]
  },
  {
   "cell_type": "code",
   "execution_count": 6,
   "id": "6e984172-ade9-4328-9348-0422b78047d9",
   "metadata": {},
   "outputs": [
    {
     "data": {
      "image/png": "[encoded data removed]",
      "text/plain": [
       "<Figure size 640x480 with 1 Axes>"
      ]
     },
     "metadata": {},
     "output_type": "display_data"
    },
    {
     "data": {
      "image/png": "[encoded data removed]",
      "text/plain": [
       "<Figure size 640x480 with 1 Axes>"
      ]
     },
     "metadata": {},
     "output_type": "display_data"
    },
    {
     "data": {
      "image/png": "[encoded data removed]",
      "text/plain": [
       "<Figure size 640x480 with 1 Axes>"
      ]
     },
     "metadata": {},
     "output_type": "display_data"
    }
   ],
   "source": [
    "# Churn by contract length\n",
    "sns.countplot(x='contractLength', hue='churned', data=df)\n",
    "plt.title(\"Churn by Contract Length\")\n",
    "plt.show()\n",
    "\n",
    "# Churn vs. final weekly price\n",
    "sns.boxplot(x='churned', y='finalWeeklyPrice', data=df)\n",
    "plt.title(\"Weekly Price by Churn Status\")\n",
    "plt.show()\n",
    "\n",
    "# Churn by volume\n",
    "sns.boxplot(x='churned', y='weeklyVolume', data=df)\n",
    "plt.title(\"Weekly Volume by Churn Status\")\n",
    "plt.show()"
   ]
  },
  {
   "cell_type": "markdown",
   "id": "888d996f-0f86-4a5a-a31e-161cbc607d9d",
   "metadata": {},
   "source": [
    "Key Findings from EDA\n",
    "\n",
    "- Shorter contracts= churn more frequently.\n",
    "- Higher final weekly prices are associated with churn.\n",
    "- Churn is somewhat more likely at **lower volumes**, especially when not paired with long contracts or good discounts.\n",
    "\n",
    "These patterns align with common pricing sensitivity in recurring service contracts.\n"
   ]
  },
  {
   "cell_type": "code",
   "execution_count": 8,
   "id": "0445910f-209a-42c1-a080-4cfab8fc9040",
   "metadata": {},
   "outputs": [
    {
     "data": {
      "text/html": [
       "<div>\n",
       "<style scoped>\n",
       "    .dataframe tbody tr th:only-of-type {\n",
       "        vertical-align: middle;\n",
       "    }\n",
       "\n",
       "    .dataframe tbody tr th {\n",
       "        vertical-align: top;\n",
       "    }\n",
       "\n",
       "    .dataframe thead th {\n",
       "        text-align: right;\n",
       "    }\n",
       "</style>\n",
       "<table border=\"1\" class=\"dataframe\">\n",
       "  <thead>\n",
       "    <tr style=\"text-align: right;\">\n",
       "      <th></th>\n",
       "      <th>customerID</th>\n",
       "      <th>region</th>\n",
       "      <th>contractLength</th>\n",
       "      <th>weeklyVolume</th>\n",
       "      <th>basePricePerItem</th>\n",
       "      <th>discountRate</th>\n",
       "      <th>finalWeeklyPrice</th>\n",
       "      <th>churned</th>\n",
       "    </tr>\n",
       "  </thead>\n",
       "  <tbody>\n",
       "    <tr>\n",
       "      <th>0</th>\n",
       "      <td>CUST0000</td>\n",
       "      <td>South</td>\n",
       "      <td>36</td>\n",
       "      <td>102</td>\n",
       "      <td>7.0</td>\n",
       "      <td>0.15</td>\n",
       "      <td>606.900</td>\n",
       "      <td>False</td>\n",
       "    </tr>\n",
       "    <tr>\n",
       "      <th>1</th>\n",
       "      <td>CUST0001</td>\n",
       "      <td>Midwest</td>\n",
       "      <td>24</td>\n",
       "      <td>84</td>\n",
       "      <td>7.5</td>\n",
       "      <td>0.10</td>\n",
       "      <td>567.000</td>\n",
       "      <td>False</td>\n",
       "    </tr>\n",
       "    <tr>\n",
       "      <th>2</th>\n",
       "      <td>CUST0002</td>\n",
       "      <td>Northeast</td>\n",
       "      <td>36</td>\n",
       "      <td>113</td>\n",
       "      <td>8.0</td>\n",
       "      <td>0.15</td>\n",
       "      <td>768.400</td>\n",
       "      <td>False</td>\n",
       "    </tr>\n",
       "    <tr>\n",
       "      <th>3</th>\n",
       "      <td>CUST0003</td>\n",
       "      <td>West</td>\n",
       "      <td>12</td>\n",
       "      <td>31</td>\n",
       "      <td>8.5</td>\n",
       "      <td>0.05</td>\n",
       "      <td>250.325</td>\n",
       "      <td>True</td>\n",
       "    </tr>\n",
       "    <tr>\n",
       "      <th>4</th>\n",
       "      <td>CUST0004</td>\n",
       "      <td>Northeast</td>\n",
       "      <td>6</td>\n",
       "      <td>68</td>\n",
       "      <td>8.0</td>\n",
       "      <td>0.00</td>\n",
       "      <td>544.000</td>\n",
       "      <td>False</td>\n",
       "    </tr>\n",
       "  </tbody>\n",
       "</table>\n",
       "</div>"
      ],
      "text/plain": [
       "  customerID     region  contractLength  weeklyVolume  basePricePerItem  \\\n",
       "0   CUST0000      South              36           102               7.0   \n",
       "1   CUST0001    Midwest              24            84               7.5   \n",
       "2   CUST0002  Northeast              36           113               8.0   \n",
       "3   CUST0003       West              12            31               8.5   \n",
       "4   CUST0004  Northeast               6            68               8.0   \n",
       "\n",
       "   discountRate  finalWeeklyPrice  churned  \n",
       "0          0.15           606.900    False  \n",
       "1          0.10           567.000    False  \n",
       "2          0.15           768.400    False  \n",
       "3          0.05           250.325     True  \n",
       "4          0.00           544.000    False  "
      ]
     },
     "execution_count": 8,
     "metadata": {},
     "output_type": "execute_result"
    }
   ],
   "source": [
    "import pandas as pd\n",
    "\n",
    "# Load the dataset\n",
    "df = pd.read_csv(\"synthetic_uniform_pricing_dataset.csv\")\n",
    "\n",
    "# Confirm it loaded\n",
    "df.head()"
   ]
  },
  {
   "cell_type": "code",
   "execution_count": 10,
   "id": "5975bb5f-2b5e-4a39-9b41-0399c9474cec",
   "metadata": {},
   "outputs": [],
   "source": [
    "df['discountRate'] = pd.to_numeric(df['discountRate'], errors='coerce')\n",
    "df['discountBin'] = (df['discountRate'] * 100).astype(int)"
   ]
  },
  {
   "cell_type": "code",
   "execution_count": 11,
   "id": "b3a541a8-9eeb-4f74-ba93-4fc103958f72",
   "metadata": {},
   "outputs": [
    {
     "data": {
      "image/png": "[encoded data removed]",
      "text/plain": [
       "<Figure size 640x480 with 1 Axes>"
      ]
     },
     "metadata": {},
     "output_type": "display_data"
    }
   ],
   "source": [
    "import seaborn as sns\n",
    "import matplotlib.pyplot as plt\n",
    "\n",
    "# Create the countplot\n",
    "sns.countplot(x='discountBin', hue='churned', data=df)\n",
    "\n",
    "# Format the plot\n",
    "plt.title(\"Churn by Discount Rate (%)\")\n",
    "plt.xlabel(\"Discount Rate (%)\")\n",
    "plt.ylabel(\"Number of Customers\")\n",
    "plt.legend(title=\"Churned\")\n",
    "plt.show()"
   ]
  },
  {
   "cell_type": "markdown",
   "id": "3beded3f-0cea-4f4f-aa72-42c42f4c6d0e",
   "metadata": {},
   "source": [
    " Churn by Discount Rate\n",
    "\n",
    "This chart shows the relationship between the discount a customer received and their likelihood to churn.\n",
    "\n",
    "\n",
    "- Customers with **no discount (0%)** had the **highest churn rates**.\n",
    "- As discount levels increased (5%, 10%, 15%, 20%), churn rates generally **decreased**.\n",
    "- This suggests that offering **larger discounts** can be an effective retention strategy, especially for price-sensitive or smaller-volume customers.\n",
    "\n",
    "\n"
   ]
  },
  {
   "cell_type": "code",
   "execution_count": 12,
   "id": "ffffb0b1-6b33-4522-813c-da48297cd265",
   "metadata": {},
   "outputs": [
    {
     "data": {
      "image/png": "[encoded data removed]",
      "text/plain": [
       "<Figure size 640x480 with 1 Axes>"
      ]
     },
     "metadata": {},
     "output_type": "display_data"
    }
   ],
   "source": [
    "import seaborn as sns\n",
    "import matplotlib.pyplot as plt\n",
    "\n",
    "# Countplot: Number of churned vs. retained customers per region\n",
    "sns.countplot(x='region', hue='churned', data=df)\n",
    "plt.title(\"Churn by Region\")\n",
    "plt.xlabel(\"Region\")\n",
    "plt.ylabel(\"Number of Customers\")\n",
    "plt.legend(title=\"Churned\")\n",
    "plt.xticks(rotation=15)\n",
    "plt.show()\n"
   ]
  },
  {
   "cell_type": "code",
   "execution_count": 13,
   "id": "b1ba8abe-95d3-4817-8222-06db924ef0e3",
   "metadata": {
    "scrolled": true
   },
   "outputs": [
    {
     "data": {
      "image/png": "[encoded data removed]",
      "text/plain": [
       "<Figure size 640x480 with 1 Axes>"
      ]
     },
     "metadata": {},
     "output_type": "display_data"
    }
   ],
   "source": [
    "# Calculate churn rate per region\n",
    "region_churn_rate = df.groupby('region')['churned'].mean().sort_values(ascending=False)\n",
    "\n",
    "# Plot it\n",
    "region_churn_rate.plot(kind='bar', color='coral')\n",
    "plt.title(\"Churn Rate by Region\")\n",
    "plt.ylabel(\"Churn Rate (%)\")\n",
    "plt.xlabel(\"Region\")\n",
    "plt.show()"
   ]
  },
  {
   "cell_type": "markdown",
   "id": "59c74736-edcd-415d-b040-0861c5fefd58",
   "metadata": {},
   "source": [
    "### 📍 Churn by Region\n",
    "\n",
    "We analyzed churn across geographic regions to see if location plays a role in retention.\n",
    "\n",
    "#### Key Observations:\n",
    "- Some regions (e.g., the **South** or **West**) show **higher churn rates** than others.\n",
    "- Regions with **lower churn** may represent loyal markets or better service coverage.\n",
    "- These insights could guide region-specific strategies like:\n",
    "  - Offering higher discounts in high-churn regions\n",
    "  - Investigating operational or service issues in struggling areas\n",
    "  - Adjusting pricing or contract terms by market\n",
    "\n",
    "This kind of regional insight helps companies focus their retention efforts more precisely.\n"
   ]
  },
  {
   "cell_type": "markdown",
   "id": "00c8ce05-ce73-412b-9716-d33d3c58791e",
   "metadata": {},
   "source": [
    "Now we must build a model to simulate \n",
    "\n",
    "- Weekly price\n",
    "- Contract length\n",
    "- Volume\n",
    "- Discount rate\n",
    "- Region\n",
    "\n",
    "This model will help us understand what factors drive churn and allow us to simulate pricing changes.\n"
   ]
  },
  {
   "cell_type": "code",
   "execution_count": 15,
   "id": "5066dee9-6fb5-43f9-b847-85fdb9c7891f",
   "metadata": {},
   "outputs": [],
   "source": [
    "# Convert 'churned' to 0 and 1\n",
    "df['churned'] = df['churned'].astype(int)\n",
    "\n",
    "# One-hot encode the 'region' column\n",
    "df_encoded = pd.get_dummies(df, columns=['region'], drop_first=True)"
   ]
  },
  {
   "cell_type": "code",
   "execution_count": 16,
   "id": "9cd252c0-0a64-4325-99d6-b38b4d1f2b41",
   "metadata": {},
   "outputs": [],
   "source": [
    "# Features we'll use for prediction\n",
    "features = ['contractLength', 'weeklyVolume', 'basePricePerItem',\n",
    "            'discountRate', 'finalWeeklyPrice'] + [col for col in df_encoded.columns if col.startswith('region_')]\n",
    "\n",
    "# Define X (features) and y (target)\n",
    "X = df_encoded[features]\n",
    "y = df_encoded['churned']"
   ]
  },
  {
   "cell_type": "code",
   "execution_count": 17,
   "id": "a7190b14-c16a-4fa1-b2eb-54948503cae4",
   "metadata": {},
   "outputs": [],
   "source": [
    "from sklearn.model_selection import train_test_split\n",
    "\n",
    "X_train, X_test, y_train, y_test = train_test_split(\n",
    "    X, y, test_size=0.2, random_state=42)\n",
    "\n"
   ]
  },
  {
   "cell_type": "code",
   "execution_count": 18,
   "id": "b34d740d-982b-4dd7-b2b9-99f013622236",
   "metadata": {},
   "outputs": [],
   "source": [
    "from sklearn.linear_model import LogisticRegression\n",
    "from sklearn.metrics import accuracy_score, confusion_matrix, classification_report\n",
    "\n",
    "# Use class_weight='balanced' to handle class imbalance\n",
    "model = LogisticRegression(class_weight='balanced', max_iter=1000)\n",
    "model.fit(X_train, y_train)\n",
    "\n",
    "# Predict on test set\n",
    "y_pred = model.predict(X_test)"
   ]
  },
  {
   "cell_type": "code",
   "execution_count": 19,
   "id": "09f9250f-0dd3-467f-981f-9ece407095d1",
   "metadata": {},
   "outputs": [
    {
     "name": "stdout",
     "output_type": "stream",
     "text": [
      "Accuracy: 0.57\n",
      "\n",
      "Confusion Matrix:\n",
      " [[86 59]\n",
      " [27 28]]\n",
      "\n",
      "Classification Report:\n",
      "               precision    recall  f1-score   support\n",
      "\n",
      "           0       0.76      0.59      0.67       145\n",
      "           1       0.32      0.51      0.39        55\n",
      "\n",
      "    accuracy                           0.57       200\n",
      "   macro avg       0.54      0.55      0.53       200\n",
      "weighted avg       0.64      0.57      0.59       200\n",
      "\n"
     ]
    }
   ],
   "source": [
    "print(\"Accuracy:\", accuracy_score(y_test, y_pred))\n",
    "print(\"\\nConfusion Matrix:\\n\", confusion_matrix(y_test, y_pred))\n",
    "print(\"\\nClassification Report:\\n\", classification_report(y_test, y_pred))"
   ]
  },
  {
   "cell_type": "markdown",
   "id": "4cc6f3f2-f1e5-4644-9353-f0a5c842306e",
   "metadata": {},
   "source": [
    " Logistic Regression Results\n",
    "\n",
    "Used logistic regression model to predict customer churn using contract length, price, discount, region, and volume. The model achieved 57% accuracy on the test set. While the overall accuracy was modest, the model correctly identified 51% of churners — a strong improvement over a naive model.\n",
    "\n",
    "This demonstrates the classic precision-recall tradeoff in churn prediction: identifying churners is challenging, but valuable. Our next step is to try more advanced models like Random Forest to improve performance and explore which features contribute most to churn.\n"
   ]
  },
  {
   "cell_type": "code",
   "execution_count": 20,
   "id": "d723fd30-ad0f-4391-b30a-2756100e2fe0",
   "metadata": {},
   "outputs": [
    {
     "data": {
      "text/html": [
       "<style>#sk-container-id-1 {\n",
       "  /* Definition of color scheme common for light and dark mode */\n",
       "  --sklearn-color-text: black;\n",
       "  --sklearn-color-line: gray;\n",
       "  /* Definition of color scheme for unfitted estimators */\n",
       "  --sklearn-color-unfitted-level-0: #fff5e6;\n",
       "  --sklearn-color-unfitted-level-1: #f6e4d2;\n",
       "  --sklearn-color-unfitted-level-2: #ffe0b3;\n",
       "  --sklearn-color-unfitted-level-3: chocolate;\n",
       "  /* Definition of color scheme for fitted estimators */\n",
       "  --sklearn-color-fitted-level-0: #f0f8ff;\n",
       "  --sklearn-color-fitted-level-1: #d4ebff;\n",
       "  --sklearn-color-fitted-level-2: #b3dbfd;\n",
       "  --sklearn-color-fitted-level-3: cornflowerblue;\n",
       "\n",
       "  /* Specific color for light theme */\n",
       "  --sklearn-color-text-on-default-background: var(--sg-text-color, var(--theme-code-foreground, var(--jp-content-font-color1, black)));\n",
       "  --sklearn-color-background: var(--sg-background-color, var(--theme-background, var(--jp-layout-color0, white)));\n",
       "  --sklearn-color-border-box: var(--sg-text-color, var(--theme-code-foreground, var(--jp-content-font-color1, black)));\n",
       "  --sklearn-color-icon: #696969;\n",
       "\n",
       "  @media (prefers-color-scheme: dark) {\n",
       "    /* Redefinition of color scheme for dark theme */\n",
       "    --sklearn-color-text-on-default-background: var(--sg-text-color, var(--theme-code-foreground, var(--jp-content-font-color1, white)));\n",
       "    --sklearn-color-background: var(--sg-background-color, var(--theme-background, var(--jp-layout-color0, #111)));\n",
       "    --sklearn-color-border-box: var(--sg-text-color, var(--theme-code-foreground, var(--jp-content-font-color1, white)));\n",
       "    --sklearn-color-icon: #878787;\n",
       "  }\n",
       "}\n",
       "\n",
       "#sk-container-id-1 {\n",
       "  color: var(--sklearn-color-text);\n",
       "}\n",
       "\n",
       "#sk-container-id-1 pre {\n",
       "  padding: 0;\n",
       "}\n",
       "\n",
       "#sk-container-id-1 input.sk-hidden--visually {\n",
       "  border: 0;\n",
       "  clip: rect(1px 1px 1px 1px);\n",
       "  clip: rect(1px, 1px, 1px, 1px);\n",
       "  height: 1px;\n",
       "  margin: -1px;\n",
       "  overflow: hidden;\n",
       "  padding: 0;\n",
       "  position: absolute;\n",
       "  width: 1px;\n",
       "}\n",
       "\n",
       "#sk-container-id-1 div.sk-dashed-wrapped {\n",
       "  border: 1px dashed var(--sklearn-color-line);\n",
       "  margin: 0 0.4em 0.5em 0.4em;\n",
       "  box-sizing: border-box;\n",
       "  padding-bottom: 0.4em;\n",
       "  background-color: var(--sklearn-color-background);\n",
       "}\n",
       "\n",
       "#sk-container-id-1 div.sk-container {\n",
       "  /* jupyter's `normalize.less` sets `[hidden] { display: none; }`\n",
       "     but bootstrap.min.css set `[hidden] { display: none !important; }`\n",
       "     so we also need the `!important` here to be able to override the\n",
       "     default hidden behavior on the sphinx rendered scikit-learn.org.\n",
       "     See: https://github.com/scikit-learn/scikit-learn/issues/21755 */\n",
       "  display: inline-block !important;\n",
       "  position: relative;\n",
       "}\n",
       "\n",
       "#sk-container-id-1 div.sk-text-repr-fallback {\n",
       "  display: none;\n",
       "}\n",
       "\n",
       "div.sk-parallel-item,\n",
       "div.sk-serial,\n",
       "div.sk-item {\n",
       "  /* draw centered vertical line to link estimators */\n",
       "  background-image: linear-gradient(var(--sklearn-color-text-on-default-background), var(--sklearn-color-text-on-default-background));\n",
       "  background-size: 2px 100%;\n",
       "  background-repeat: no-repeat;\n",
       "  background-position: center center;\n",
       "}\n",
       "\n",
       "/* Parallel-specific style estimator block */\n",
       "\n",
       "#sk-container-id-1 div.sk-parallel-item::after {\n",
       "  content: \"\";\n",
       "  width: 100%;\n",
       "  border-bottom: 2px solid var(--sklearn-color-text-on-default-background);\n",
       "  flex-grow: 1;\n",
       "}\n",
       "\n",
       "#sk-container-id-1 div.sk-parallel {\n",
       "  display: flex;\n",
       "  align-items: stretch;\n",
       "  justify-content: center;\n",
       "  background-color: var(--sklearn-color-background);\n",
       "  position: relative;\n",
       "}\n",
       "\n",
       "#sk-container-id-1 div.sk-parallel-item {\n",
       "  display: flex;\n",
       "  flex-direction: column;\n",
       "}\n",
       "\n",
       "#sk-container-id-1 div.sk-parallel-item:first-child::after {\n",
       "  align-self: flex-end;\n",
       "  width: 50%;\n",
       "}\n",
       "\n",
       "#sk-container-id-1 div.sk-parallel-item:last-child::after {\n",
       "  align-self: flex-start;\n",
       "  width: 50%;\n",
       "}\n",
       "\n",
       "#sk-container-id-1 div.sk-parallel-item:only-child::after {\n",
       "  width: 0;\n",
       "}\n",
       "\n",
       "/* Serial-specific style estimator block */\n",
       "\n",
       "#sk-container-id-1 div.sk-serial {\n",
       "  display: flex;\n",
       "  flex-direction: column;\n",
       "  align-items: center;\n",
       "  background-color: var(--sklearn-color-background);\n",
       "  padding-right: 1em;\n",
       "  padding-left: 1em;\n",
       "}\n",
       "\n",
       "\n",
       "/* Toggleable style: style used for estimator/Pipeline/ColumnTransformer box that is\n",
       "clickable and can be expanded/collapsed.\n",
       "- Pipeline and ColumnTransformer use this feature and define the default style\n",
       "- Estimators will overwrite some part of the style using the `sk-estimator` class\n",
       "*/\n",
       "\n",
       "/* Pipeline and ColumnTransformer style (default) */\n",
       "\n",
       "#sk-container-id-1 div.sk-toggleable {\n",
       "  /* Default theme specific background. It is overwritten whether we have a\n",
       "  specific estimator or a Pipeline/ColumnTransformer */\n",
       "  background-color: var(--sklearn-color-background);\n",
       "}\n",
       "\n",
       "/* Toggleable label */\n",
       "#sk-container-id-1 label.sk-toggleable__label {\n",
       "  cursor: pointer;\n",
       "  display: block;\n",
       "  width: 100%;\n",
       "  margin-bottom: 0;\n",
       "  padding: 0.5em;\n",
       "  box-sizing: border-box;\n",
       "  text-align: center;\n",
       "}\n",
       "\n",
       "#sk-container-id-1 label.sk-toggleable__label-arrow:before {\n",
       "  /* Arrow on the left of the label */\n",
       "  content: \"▸\";\n",
       "  float: left;\n",
       "  margin-right: 0.25em;\n",
       "  color: var(--sklearn-color-icon);\n",
       "}\n",
       "\n",
       "#sk-container-id-1 label.sk-toggleable__label-arrow:hover:before {\n",
       "  color: var(--sklearn-color-text);\n",
       "}\n",
       "\n",
       "/* Toggleable content - dropdown */\n",
       "\n",
       "#sk-container-id-1 div.sk-toggleable__content {\n",
       "  max-height: 0;\n",
       "  max-width: 0;\n",
       "  overflow: hidden;\n",
       "  text-align: left;\n",
       "  /* unfitted */\n",
       "  background-color: var(--sklearn-color-unfitted-level-0);\n",
       "}\n",
       "\n",
       "#sk-container-id-1 div.sk-toggleable__content.fitted {\n",
       "  /* fitted */\n",
       "  background-color: var(--sklearn-color-fitted-level-0);\n",
       "}\n",
       "\n",
       "#sk-container-id-1 div.sk-toggleable__content pre {\n",
       "  margin: 0.2em;\n",
       "  border-radius: 0.25em;\n",
       "  color: var(--sklearn-color-text);\n",
       "  /* unfitted */\n",
       "  background-color: var(--sklearn-color-unfitted-level-0);\n",
       "}\n",
       "\n",
       "#sk-container-id-1 div.sk-toggleable__content.fitted pre {\n",
       "  /* unfitted */\n",
       "  background-color: var(--sklearn-color-fitted-level-0);\n",
       "}\n",
       "\n",
       "#sk-container-id-1 input.sk-toggleable__control:checked~div.sk-toggleable__content {\n",
       "  /* Expand drop-down */\n",
       "  max-height: 200px;\n",
       "  max-width: 100%;\n",
       "  overflow: auto;\n",
       "}\n",
       "\n",
       "#sk-container-id-1 input.sk-toggleable__control:checked~label.sk-toggleable__label-arrow:before {\n",
       "  content: \"▾\";\n",
       "}\n",
       "\n",
       "/* Pipeline/ColumnTransformer-specific style */\n",
       "\n",
       "#sk-container-id-1 div.sk-label input.sk-toggleable__control:checked~label.sk-toggleable__label {\n",
       "  color: var(--sklearn-color-text);\n",
       "  background-color: var(--sklearn-color-unfitted-level-2);\n",
       "}\n",
       "\n",
       "#sk-container-id-1 div.sk-label.fitted input.sk-toggleable__control:checked~label.sk-toggleable__label {\n",
       "  background-color: var(--sklearn-color-fitted-level-2);\n",
       "}\n",
       "\n",
       "/* Estimator-specific style */\n",
       "\n",
       "/* Colorize estimator box */\n",
       "#sk-container-id-1 div.sk-estimator input.sk-toggleable__control:checked~label.sk-toggleable__label {\n",
       "  /* unfitted */\n",
       "  background-color: var(--sklearn-color-unfitted-level-2);\n",
       "}\n",
       "\n",
       "#sk-container-id-1 div.sk-estimator.fitted input.sk-toggleable__control:checked~label.sk-toggleable__label {\n",
       "  /* fitted */\n",
       "  background-color: var(--sklearn-color-fitted-level-2);\n",
       "}\n",
       "\n",
       "#sk-container-id-1 div.sk-label label.sk-toggleable__label,\n",
       "#sk-container-id-1 div.sk-label label {\n",
       "  /* The background is the default theme color */\n",
       "  color: var(--sklearn-color-text-on-default-background);\n",
       "}\n",
       "\n",
       "/* On hover, darken the color of the background */\n",
       "#sk-container-id-1 div.sk-label:hover label.sk-toggleable__label {\n",
       "  color: var(--sklearn-color-text);\n",
       "  background-color: var(--sklearn-color-unfitted-level-2);\n",
       "}\n",
       "\n",
       "/* Label box, darken color on hover, fitted */\n",
       "#sk-container-id-1 div.sk-label.fitted:hover label.sk-toggleable__label.fitted {\n",
       "  color: var(--sklearn-color-text);\n",
       "  background-color: var(--sklearn-color-fitted-level-2);\n",
       "}\n",
       "\n",
       "/* Estimator label */\n",
       "\n",
       "#sk-container-id-1 div.sk-label label {\n",
       "  font-family: monospace;\n",
       "  font-weight: bold;\n",
       "  display: inline-block;\n",
       "  line-height: 1.2em;\n",
       "}\n",
       "\n",
       "#sk-container-id-1 div.sk-label-container {\n",
       "  text-align: center;\n",
       "}\n",
       "\n",
       "/* Estimator-specific */\n",
       "#sk-container-id-1 div.sk-estimator {\n",
       "  font-family: monospace;\n",
       "  border: 1px dotted var(--sklearn-color-border-box);\n",
       "  border-radius: 0.25em;\n",
       "  box-sizing: border-box;\n",
       "  margin-bottom: 0.5em;\n",
       "  /* unfitted */\n",
       "  background-color: var(--sklearn-color-unfitted-level-0);\n",
       "}\n",
       "\n",
       "#sk-container-id-1 div.sk-estimator.fitted {\n",
       "  /* fitted */\n",
       "  background-color: var(--sklearn-color-fitted-level-0);\n",
       "}\n",
       "\n",
       "/* on hover */\n",
       "#sk-container-id-1 div.sk-estimator:hover {\n",
       "  /* unfitted */\n",
       "  background-color: var(--sklearn-color-unfitted-level-2);\n",
       "}\n",
       "\n",
       "#sk-container-id-1 div.sk-estimator.fitted:hover {\n",
       "  /* fitted */\n",
       "  background-color: var(--sklearn-color-fitted-level-2);\n",
       "}\n",
       "\n",
       "/* Specification for estimator info (e.g. \"i\" and \"?\") */\n",
       "\n",
       "/* Common style for \"i\" and \"?\" */\n",
       "\n",
       ".sk-estimator-doc-link,\n",
       "a:link.sk-estimator-doc-link,\n",
       "a:visited.sk-estimator-doc-link {\n",
       "  float: right;\n",
       "  font-size: smaller;\n",
       "  line-height: 1em;\n",
       "  font-family: monospace;\n",
       "  background-color: var(--sklearn-color-background);\n",
       "  border-radius: 1em;\n",
       "  height: 1em;\n",
       "  width: 1em;\n",
       "  text-decoration: none !important;\n",
       "  margin-left: 1ex;\n",
       "  /* unfitted */\n",
       "  border: var(--sklearn-color-unfitted-level-1) 1pt solid;\n",
       "  color: var(--sklearn-color-unfitted-level-1);\n",
       "}\n",
       "\n",
       ".sk-estimator-doc-link.fitted,\n",
       "a:link.sk-estimator-doc-link.fitted,\n",
       "a:visited.sk-estimator-doc-link.fitted {\n",
       "  /* fitted */\n",
       "  border: var(--sklearn-color-fitted-level-1) 1pt solid;\n",
       "  color: var(--sklearn-color-fitted-level-1);\n",
       "}\n",
       "\n",
       "/* On hover */\n",
       "div.sk-estimator:hover .sk-estimator-doc-link:hover,\n",
       ".sk-estimator-doc-link:hover,\n",
       "div.sk-label-container:hover .sk-estimator-doc-link:hover,\n",
       ".sk-estimator-doc-link:hover {\n",
       "  /* unfitted */\n",
       "  background-color: var(--sklearn-color-unfitted-level-3);\n",
       "  color: var(--sklearn-color-background);\n",
       "  text-decoration: none;\n",
       "}\n",
       "\n",
       "div.sk-estimator.fitted:hover .sk-estimator-doc-link.fitted:hover,\n",
       ".sk-estimator-doc-link.fitted:hover,\n",
       "div.sk-label-container:hover .sk-estimator-doc-link.fitted:hover,\n",
       ".sk-estimator-doc-link.fitted:hover {\n",
       "  /* fitted */\n",
       "  background-color: var(--sklearn-color-fitted-level-3);\n",
       "  color: var(--sklearn-color-background);\n",
       "  text-decoration: none;\n",
       "}\n",
       "\n",
       "/* Span, style for the box shown on hovering the info icon */\n",
       ".sk-estimator-doc-link span {\n",
       "  display: none;\n",
       "  z-index: 9999;\n",
       "  position: relative;\n",
       "  font-weight: normal;\n",
       "  right: .2ex;\n",
       "  padding: .5ex;\n",
       "  margin: .5ex;\n",
       "  width: min-content;\n",
       "  min-width: 20ex;\n",
       "  max-width: 50ex;\n",
       "  color: var(--sklearn-color-text);\n",
       "  box-shadow: 2pt 2pt 4pt #999;\n",
       "  /* unfitted */\n",
       "  background: var(--sklearn-color-unfitted-level-0);\n",
       "  border: .5pt solid var(--sklearn-color-unfitted-level-3);\n",
       "}\n",
       "\n",
       ".sk-estimator-doc-link.fitted span {\n",
       "  /* fitted */\n",
       "  background: var(--sklearn-color-fitted-level-0);\n",
       "  border: var(--sklearn-color-fitted-level-3);\n",
       "}\n",
       "\n",
       ".sk-estimator-doc-link:hover span {\n",
       "  display: block;\n",
       "}\n",
       "\n",
       "/* \"?\"-specific style due to the `<a>` HTML tag */\n",
       "\n",
       "#sk-container-id-1 a.estimator_doc_link {\n",
       "  float: right;\n",
       "  font-size: 1rem;\n",
       "  line-height: 1em;\n",
       "  font-family: monospace;\n",
       "  background-color: var(--sklearn-color-background);\n",
       "  border-radius: 1rem;\n",
       "  height: 1rem;\n",
       "  width: 1rem;\n",
       "  text-decoration: none;\n",
       "  /* unfitted */\n",
       "  color: var(--sklearn-color-unfitted-level-1);\n",
       "  border: var(--sklearn-color-unfitted-level-1) 1pt solid;\n",
       "}\n",
       "\n",
       "#sk-container-id-1 a.estimator_doc_link.fitted {\n",
       "  /* fitted */\n",
       "  border: var(--sklearn-color-fitted-level-1) 1pt solid;\n",
       "  color: var(--sklearn-color-fitted-level-1);\n",
       "}\n",
       "\n",
       "/* On hover */\n",
       "#sk-container-id-1 a.estimator_doc_link:hover {\n",
       "  /* unfitted */\n",
       "  background-color: var(--sklearn-color-unfitted-level-3);\n",
       "  color: var(--sklearn-color-background);\n",
       "  text-decoration: none;\n",
       "}\n",
       "\n",
       "#sk-container-id-1 a.estimator_doc_link.fitted:hover {\n",
       "  /* fitted */\n",
       "  background-color: var(--sklearn-color-fitted-level-3);\n",
       "}\n",
       "</style><div id=\"sk-container-id-1\" class=\"sk-top-container\"><div class=\"sk-text-repr-fallback\"><pre>RandomForestClassifier(class_weight=&#x27;balanced&#x27;, random_state=42)</pre><b>In a Jupyter environment, please rerun this cell to show the HTML representation or trust the notebook. <br />On GitHub, the HTML representation is unable to render, please try loading this page with nbviewer.org.</b></div><div class=\"sk-container\" hidden><div class=\"sk-item\"><div class=\"sk-estimator fitted sk-toggleable\"><input class=\"sk-toggleable__control sk-hidden--visually\" id=\"sk-estimator-id-1\" type=\"checkbox\" checked><label for=\"sk-estimator-id-1\" class=\"sk-toggleable__label fitted sk-toggleable__label-arrow fitted\">&nbsp;&nbsp;RandomForestClassifier<a class=\"sk-estimator-doc-link fitted\" rel=\"noreferrer\" target=\"_blank\" href=\"https://scikit-learn.org/1.5/modules/generated/sklearn.ensemble.RandomForestClassifier.html\">?<span>Documentation for RandomForestClassifier</span></a><span class=\"sk-estimator-doc-link fitted\">i<span>Fitted</span></span></label><div class=\"sk-toggleable__content fitted\"><pre>RandomForestClassifier(class_weight=&#x27;balanced&#x27;, random_state=42)</pre></div> </div></div></div></div>"
      ],
      "text/plain": [
       "RandomForestClassifier(class_weight='balanced', random_state=42)"
      ]
     },
     "execution_count": 20,
     "metadata": {},
     "output_type": "execute_result"
    }
   ],
   "source": [
    "from sklearn.ensemble import RandomForestClassifier\n",
    "\n",
    "# Create and train the model\n",
    "rf_model = RandomForestClassifier(class_weight='balanced', random_state=42)\n",
    "rf_model.fit(X_train, y_train)"
   ]
  },
  {
   "cell_type": "code",
   "execution_count": 21,
   "id": "6e0c1be8-c28b-48dd-b265-3303fb9145e6",
   "metadata": {},
   "outputs": [
    {
     "name": "stdout",
     "output_type": "stream",
     "text": [
      "Accuracy: 0.64\n",
      "Confusion Matrix:\n",
      " [[118  27]\n",
      " [ 45  10]]\n",
      "Classification Report:\n",
      "               precision    recall  f1-score   support\n",
      "\n",
      "           0       0.72      0.81      0.77       145\n",
      "           1       0.27      0.18      0.22        55\n",
      "\n",
      "    accuracy                           0.64       200\n",
      "   macro avg       0.50      0.50      0.49       200\n",
      "weighted avg       0.60      0.64      0.62       200\n",
      "\n"
     ]
    }
   ],
   "source": [
    "# Predict churn on the test set\n",
    "rf_preds = rf_model.predict(X_test)\n",
    "\n",
    "# Evaluate performance\n",
    "from sklearn.metrics import accuracy_score, confusion_matrix, classification_report\n",
    "\n",
    "print(\"Accuracy:\", accuracy_score(y_test, rf_preds))\n",
    "print(\"Confusion Matrix:\\n\", confusion_matrix(y_test, rf_preds))\n",
    "print(\"Classification Report:\\n\", classification_report(y_test, rf_preds))"
   ]
  },
  {
   "cell_type": "code",
   "execution_count": 22,
   "id": "5df59570-37b0-4ef8-90c5-fe1736956ec4",
   "metadata": {},
   "outputs": [
    {
     "data": {
      "image/png": "[encoded data removed]",
      "text/plain": [
       "<Figure size 640x480 with 1 Axes>"
      ]
     },
     "metadata": {},
     "output_type": "display_data"
    }
   ],
   "source": [
    "import pandas as pd\n",
    "import matplotlib.pyplot as plt\n",
    "\n",
    "# Create a Series of feature importances\n",
    "feat_importances = pd.Series(rf_model.feature_importances_, index=X.columns)\n",
    "feat_importances.nlargest(10).plot(kind='barh')\n",
    "plt.title(\"Top 10 Features Influencing Churn\")\n",
    "plt.xlabel(\"Importance Score\")\n",
    "plt.show()"
   ]
  },
  {
   "cell_type": "markdown",
   "id": "e3c1b085-9833-4335-a7ae-eb0f314f34ee",
   "metadata": {},
   "source": [
    " Random Forest Feature Importance\n",
    "\n",
    "We trained a Random Forest model to better predict customer churn. Although the model had moderate performance (64% accuracy), it provided clear insight into which contract features most influence churn risk.\n",
    "\n",
    " Top Features Influencing Churn:\n",
    "1. **Final Weekly Price** — High-cost contracts are the biggest churn risk.\n",
    "2. **Weekly Volume** — Lower-volume customers churn more, possibly due to limited engagement.\n",
    "3. **Contract Length** — Longer contracts reduce churn risk by increasing customer commitment.\n",
    "\n",
    "This suggests that pricing and contract structure are key levers for optimizing retention. We recommend evaluating discounts for high-price/low-volume customers and incentivizing longer contract terms.\n"
   ]
  },
  {
   "cell_type": "code",
   "execution_count": 26,
   "id": "1fbfecdc-2b1d-4ecb-a277-790d87d321be",
   "metadata": {},
   "outputs": [],
   "source": [
    "X_sim = X_test.copy()"
   ]
  },
  {
   "cell_type": "code",
   "execution_count": 27,
   "id": "63f9ed6f-7b03-4d7f-b9c0-769b5333ff7f",
   "metadata": {},
   "outputs": [],
   "source": [
    "# Simulate increasing price by 10%\n",
    "X_sim['finalWeeklyPrice'] = X_sim['finalWeeklyPrice'] * 1.10"
   ]
  },
  {
   "cell_type": "code",
   "execution_count": 28,
   "id": "9996c939-5bc8-41ca-b036-54025bc32f8f",
   "metadata": {},
   "outputs": [],
   "source": [
    "churn_pred_original = rf_model.predict(X_test)\n",
    "churn_pred_simulated = rf_model.predict(X_sim)"
   ]
  },
  {
   "cell_type": "code",
   "execution_count": 29,
   "id": "5e1a7a91-0b90-4a93-afac-b0b2fe05ea2e",
   "metadata": {},
   "outputs": [
    {
     "name": "stdout",
     "output_type": "stream",
     "text": [
      "Original predicted churn rate: 0.18\n",
      "Simulated churn rate after 10% price increase: 0.10\n"
     ]
    }
   ],
   "source": [
    "# Compare predicted churn rates\n",
    "import numpy as np\n",
    "\n",
    "original_churn_rate = np.mean(churn_pred_original)\n",
    "simulated_churn_rate = np.mean(churn_pred_simulated)\n",
    "\n",
    "print(f\"Original predicted churn rate: {original_churn_rate:.2f}\")\n",
    "print(f\"Simulated churn rate after 10% price increase: {simulated_churn_rate:.2f}\")"
   ]
  },
  {
   "cell_type": "markdown",
   "id": "06e9d08b-962f-4510-9fe9-07eea623347c",
   "metadata": {},
   "source": [
    "Elasticity Analysis: 10% Price Increase\n",
    "\n",
    "A 10% increase in weekly pricing and used the Random Forest model to re-predict churn.\n",
    "\n",
    "- Original predicted churn rate: 18%\n",
    "- Churn rate after price increase: 10%\n",
    "\n",
    "Results \n",
    "Interestingly, the model predicts that increasing prices actually decreases churn. This suggests that in our dataset, higher prices may be associated with:\n",
    "- Longer-term contracts\n",
    "- Larger volume customers\n",
    "- More committed customer segments\n",
    "\n",
    "This insight helps us think differently about pricing strategy: for some segments, raising price **may not** increase churn — and could even improve margins without hurting retention.\n"
   ]
  },
  {
   "cell_type": "code",
   "execution_count": 32,
   "id": "844a5956-031a-4fd0-b536-5943a2fe6c06",
   "metadata": {},
   "outputs": [
    {
     "name": "stdout",
     "output_type": "stream",
     "text": [
      "Churn rate after 10% price decrease: 0.08\n"
     ]
    }
   ],
   "source": [
    "# Simulate price drop by 10%\n",
    "X_sim_discount = X_test.copy()\n",
    "X_sim_discount['finalWeeklyPrice'] = X_sim_discount['finalWeeklyPrice'] * 0.90\n",
    "\n",
    "# Predict churn again\n",
    "churn_pred_discount = rf_model.predict(X_sim_discount)\n",
    "discounted_churn_rate = np.mean(churn_pred_discount)\n",
    "\n",
    "print(f\"Churn rate after 10% price decrease: {discounted_churn_rate:.2f}\")"
   ]
  },
  {
   "cell_type": "markdown",
   "id": "25a77859-97c9-4d3d-8771-3d472296a506",
   "metadata": {},
   "source": [
    "### 📉 Price Elasticity Simulation\n",
    "\n",
    "To understand the impact of pricing on churn, we simulated a 10% price increase and decrease across the test dataset and used the Random Forest model to re-predict churn outcomes.\n",
    "\n",
    "| Price Scenario       | Predicted Churn Rate |\n",
    "|----------------------|----------------------|\n",
    "| Baseline (Original)  | 18%                  |\n",
    "| 🔺 10% Increase       | 10%                  |\n",
    "| 🔻 10% Decrease       | 8%                   |\n",
    "\n",
    "#### 🧠 Interpretation:\n",
    "- A 10% price increase **reduced churn** in this model — suggesting high prices may be associated with more committed, long-term customers.\n",
    "- A 10% price decrease **re**\n"
   ]
  },
  {
   "cell_type": "code",
   "execution_count": 33,
   "id": "5a004f4b-ba45-43b5-9794-d61bfe64ea38",
   "metadata": {},
   "outputs": [],
   "source": [
    "regions = X_test.columns[X_test.columns.str.startswith('region_')]"
   ]
  },
  {
   "cell_type": "code",
   "execution_count": 34,
   "id": "924f3d04-24df-4bde-97e0-a352b35f1587",
   "metadata": {},
   "outputs": [
    {
     "name": "stdout",
     "output_type": "stream",
     "text": [
      "region_Northeast: Original=0.14, After 10% ↑=0.12\n",
      "region_South: Original=0.17, After 10% ↑=0.07\n",
      "region_West: Original=0.22, After 10% ↑=0.15\n"
     ]
    }
   ],
   "source": [
    "for col in regions:\n",
    "    mask = X_test[col] == 1  # Customers in this region\n",
    "    X_region = X_test[mask].copy()\n",
    "\n",
    "    if len(X_region) == 0:\n",
    "        continue\n",
    "\n",
    "    # Original churn rate\n",
    "    churn_orig = rf_model.predict(X_region)\n",
    "    orig_rate = churn_orig.mean()\n",
    "\n",
    "    # Simulate price increase\n",
    "    X_region['finalWeeklyPrice'] *= 1.10\n",
    "    churn_sim = rf_model.predict(X_region)\n",
    "    sim_rate = churn_sim.mean()\n",
    "\n",
    "    print(f\"{col}: Original={orig_rate:.2f}, After 10% ↑={sim_rate:.2f}\")"
   ]
  },
  {
   "cell_type": "markdown",
   "id": "c224e502-e50c-468b-9517-9079a0a1dbf3",
   "metadata": {},
   "source": [
    "### 🌍 Regional Elasticity Analysis\n",
    "\n",
    "To understand how different geographic regions respond to pricing, we simulated a 10% increase in weekly contract price for each region individually.\n",
    "\n",
    "| Region    | Original Churn | New Churn (↑10%) | Change |\n",
    "|-----------|----------------|------------------|--------|\n",
    "| Northeast | 14%            | 12%              | –2%    |\n",
    "| South     | 17%            | 7%               | –10%   |\n",
    "| West      | 22%            | 15%              | –7%    |\n",
    "\n",
    "#### 💡 Interpretation:\n",
    "- All three regions showed **lower churn** after price increases — suggesting that pricing correlates with commitment (longer contracts, larger customers).\n",
    "- The **South region** had the most inelastic response, making it a candidate for higher pricing strategies.\n",
    "- This analysis supports **region-specific pricing strategies** where churn risk is minimal even with price adjustments.\n"
   ]
  },
  {
   "cell_type": "code",
   "execution_count": 35,
   "id": "4c16f1a6-0c4b-43ba-a307-1d2426911d1a",
   "metadata": {},
   "outputs": [],
   "source": [
    "# Use one row from test data or create a custom profile\n",
    "sample = X_test.iloc[0].copy()\n"
   ]
  },
  {
   "cell_type": "code",
   "execution_count": 36,
   "id": "b6f478b9-a4cc-4d04-bdb8-16e80fac522c",
   "metadata": {},
   "outputs": [
    {
     "name": "stderr",
     "output_type": "stream",
     "text": [
      "C:\\Users\\Candace PC\\anaconda3\\Lib\\site-packages\\sklearn\\base.py:493: UserWarning: X does not have valid feature names, but RandomForestClassifier was fitted with feature names\n",
      "  warnings.warn(\n",
      "C:\\Users\\Candace PC\\anaconda3\\Lib\\site-packages\\sklearn\\base.py:493: UserWarning: X does not have valid feature names, but RandomForestClassifier was fitted with feature names\n",
      "  warnings.warn(\n",
      "C:\\Users\\Candace PC\\anaconda3\\Lib\\site-packages\\sklearn\\base.py:493: UserWarning: X does not have valid feature names, but RandomForestClassifier was fitted with feature names\n",
      "  warnings.warn(\n",
      "C:\\Users\\Candace PC\\anaconda3\\Lib\\site-packages\\sklearn\\base.py:493: UserWarning: X does not have valid feature names, but RandomForestClassifier was fitted with feature names\n",
      "  warnings.warn(\n",
      "C:\\Users\\Candace PC\\anaconda3\\Lib\\site-packages\\sklearn\\base.py:493: UserWarning: X does not have valid feature names, but RandomForestClassifier was fitted with feature names\n",
      "  warnings.warn(\n",
      "C:\\Users\\Candace PC\\anaconda3\\Lib\\site-packages\\sklearn\\base.py:493: UserWarning: X does not have valid feature names, but RandomForestClassifier was fitted with feature names\n",
      "  warnings.warn(\n",
      "C:\\Users\\Candace PC\\anaconda3\\Lib\\site-packages\\sklearn\\base.py:493: UserWarning: X does not have valid feature names, but RandomForestClassifier was fitted with feature names\n",
      "  warnings.warn(\n",
      "C:\\Users\\Candace PC\\anaconda3\\Lib\\site-packages\\sklearn\\base.py:493: UserWarning: X does not have valid feature names, but RandomForestClassifier was fitted with feature names\n",
      "  warnings.warn(\n",
      "C:\\Users\\Candace PC\\anaconda3\\Lib\\site-packages\\sklearn\\base.py:493: UserWarning: X does not have valid feature names, but RandomForestClassifier was fitted with feature names\n",
      "  warnings.warn(\n"
     ]
    }
   ],
   "source": [
    "prices = list(range(70, 111, 5))  # $70 to $110 in $5 steps\n",
    "results = []\n",
    "\n",
    "for price in prices:\n",
    "    temp = sample.copy()\n",
    "    temp['finalWeeklyPrice'] = price\n",
    "    \n",
    "    # Must be reshaped to 2D\n",
    "    prob = rf_model.predict_proba([temp])[0][1]  # Probability of churn\n",
    "    \n",
    "    expected_revenue = price * (1 - prob)\n",
    "    \n",
    "    results.append({'price': price, 'churn_prob': prob, 'expected_revenue': expected_revenue})"
   ]
  },
  {
   "cell_type": "code",
   "execution_count": 37,
   "id": "57b55448-b779-47ed-b6b5-3169141fcc43",
   "metadata": {},
   "outputs": [
    {
     "name": "stdout",
     "output_type": "stream",
     "text": [
      "   price  churn_prob  expected_revenue\n",
      "0     70    0.333488         46.655807\n",
      "1     75    0.356047         48.296481\n",
      "2     80    0.391080         48.713571\n",
      "3     85    0.401080         50.908169\n",
      "4     90    0.408605         53.225517\n",
      "5     95    0.408605         56.182491\n",
      "6    100    0.398605         60.139464\n",
      "7    105    0.403572         62.624949\n",
      "8    110    0.392584         66.815772\n"
     ]
    },
    {
     "data": {
      "image/png": "[encoded data removed]",
      "text/plain": [
       "<Figure size 640x480 with 1 Axes>"
      ]
     },
     "metadata": {},
     "output_type": "display_data"
    }
   ],
   "source": [
    "import pandas as pd\n",
    "df_results = pd.DataFrame(results)\n",
    "print(df_results)\n",
    "\n",
    "# Plot it\n",
    "import matplotlib.pyplot as plt\n",
    "\n",
    "plt.plot(df_results['price'], df_results['expected_revenue'], marker='o')\n",
    "plt.title(\"Expected Revenue by Price\")\n",
    "plt.xlabel(\"Weekly Price\")\n",
    "plt.ylabel(\"Expected Revenue\")\n",
    "plt.grid(True)\n",
    "plt.show()"
   ]
  },
  {
   "cell_type": "markdown",
   "id": "bc0cd758-3b1a-46fe-bc2f-43cb9862d410",
   "metadata": {},
   "source": [
    "### 💸 Price Optimization Simulation\n",
    "\n",
    "We simulated weekly price points from $70 to $110 for a sample customer profile. For each price, we used our trained churn prediction model to estimate churn probability and calculated expected revenue:\n",
    "\n",
    "> **Expected Revenue = Price × (1 - Churn Probability)**\n",
    "\n",
    "#### 🔍 Findings:\n",
    "- The model shows churn risk increases slightly with price.\n",
    "- However, expected revenue **continues to rise**, peaking at $110.\n",
    "- This suggests the customer profile is relatively **price inelastic**, meaning they will likely stay even at higher prices.\n",
    "\n",
    "#### 📈 Business Insight:\n",
    "Pricing for long-term, high-volume customers may be increased without hurting retention. These segments offer opportunities for **margin expansion** without sacrificing customer lifetime value.\n",
    "\n",
    "This mirrors real-world pricing analytics used in industries like uniforms, rentals, or SaaS services.\n"
   ]
  },
  {
   "cell_type": "code",
   "execution_count": 38,
   "id": "0bd23e61-afec-4e13-91b0-8ddc4ca9818d",
   "metadata": {},
   "outputs": [],
   "source": [
    "df.to_csv(\"churn_pricing_data_for_tableau.csv\", index=False)\n"
   ]
  },
  {
   "cell_type": "code",
   "execution_count": null,
   "id": "c3ea146c-c642-4bfb-aea5-068a0e7ee181",
   "metadata": {},
   "outputs": [],
   "source": []
  }
 ],
 "metadata": {
  "kernelspec": {
   "display_name": "Python [conda env:base] *",
   "language": "python",
   "name": "conda-base-py"
  },
  "language_info": {
   "codemirror_mode": {
    "name": "ipython",
    "version": 3
   },
   "file_extension": ".py",
   "mimetype": "text/x-python",
   "name": "python",
   "nbconvert_exporter": "python",
   "pygments_lexer": "ipython3",
   "version": "3.12.7"
  }
 },
 "nbformat": 4,
 "nbformat_minor": 5
}
